{
 "cells": [
  {
   "cell_type": "markdown",
   "id": "5d92bfda",
   "metadata": {
    "slideshow": {
     "slide_type": "slide"
    }
   },
   "source": [
    "<div style=\"text-align: center\"> <h2> Exercícios </h2> </div>"
   ]
  },
  {
   "cell_type": "markdown",
   "id": "1af63e35",
   "metadata": {
    "slideshow": {
     "slide_type": "slide"
    }
   },
   "source": [
    "<div style=\"text-align: center\"> <h2> Responda abaixo os tipos de variáveis</h2> </div>"
   ]
  },
  {
   "cell_type": "code",
   "execution_count": 16,
   "id": "68d833fe",
   "metadata": {
    "slideshow": {
     "slide_type": "fragment"
    }
   },
   "outputs": [
    {
     "name": "stdout",
     "output_type": "stream",
     "text": [
      "<class 'str'> <class 'int'> <class 'float'>\n"
     ]
    }
   ],
   "source": [
    "mensagem = 'Oi, tudo bem?' #str\n",
    "n = 10 #int\n",
    "pi = 3.14 #float\n",
    "\n",
    "print(type(mensagem), type(n), type(pi))"
   ]
  },
  {
   "cell_type": "markdown",
   "id": "aafcb39e",
   "metadata": {
    "slideshow": {
     "slide_type": "slide"
    }
   },
   "source": [
    "<div style=\"text-align: left\"><p><strong>Atenção</strong><br>O que acontece ao cadastrar uma variável com número na frente?</p></div>"
   ]
  },
  {
   "cell_type": "code",
   "execution_count": 1,
   "id": "efb30f25",
   "metadata": {},
   "outputs": [
    {
     "ename": "SyntaxError",
     "evalue": "invalid syntax (3635314109.py, line 1)",
     "output_type": "error",
     "traceback": [
      "\u001b[1;36m  Input \u001b[1;32mIn [1]\u001b[1;36m\u001b[0m\n\u001b[1;33m    2x= 2\u001b[0m\n\u001b[1;37m     ^\u001b[0m\n\u001b[1;31mSyntaxError\u001b[0m\u001b[1;31m:\u001b[0m invalid syntax\n"
     ]
    }
   ],
   "source": [
    "2x= 2"
   ]
  },
  {
   "cell_type": "code",
   "execution_count": 7,
   "id": "497966c1",
   "metadata": {
    "slideshow": {
     "slide_type": "slide"
    }
   },
   "outputs": [
    {
     "data": {
      "text/html": [
       "<img src=\"https://blogdosdados.com/wp-content/uploads/2020/06/palavras-chave-em-Python.png\"/>"
      ],
      "text/plain": [
       "<IPython.core.display.Image object>"
      ]
     },
     "execution_count": 7,
     "metadata": {},
     "output_type": "execute_result"
    }
   ],
   "source": [
    "\"Para adicionar uma imagem utilize o código abaixo\"\n",
    "from IPython.display import Image\n",
    "from IPython.core.display import HTML \n",
    "Image(url= \"https://blogdosdados.com/wp-content/uploads/2020/06/palavras-chave-em-Python.png\")"
   ]
  },
  {
   "cell_type": "code",
   "execution_count": 2,
   "id": "4d994748",
   "metadata": {},
   "outputs": [
    {
     "data": {
      "text/html": [
       "<img src=\"https://cdn.cloudflare.steamstatic.com/apps/dota2/images/dota2_social.jpg\"/>"
      ],
      "text/plain": [
       "<IPython.core.display.Image object>"
      ]
     },
     "execution_count": 2,
     "metadata": {},
     "output_type": "execute_result"
    }
   ],
   "source": [
    "from IPython.display import Image\n",
    "from IPython.core.display import HTML \n",
    "Image(url= \"https://cdn.cloudflare.steamstatic.com/apps/dota2/images/dota2_social.jpg\")"
   ]
  },
  {
   "cell_type": "markdown",
   "id": "ee38702d",
   "metadata": {
    "slideshow": {
     "slide_type": "slide"
    }
   },
   "source": [
    "<div style=\"text-align: center\"> <h2>Como realizar uma declaração de variável múltipla?</h2> </div>"
   ]
  },
  {
   "cell_type": "code",
   "execution_count": 5,
   "id": "fb2a0375",
   "metadata": {},
   "outputs": [
    {
     "data": {
      "text/plain": [
       "(1, 2, 3)"
      ]
     },
     "execution_count": 5,
     "metadata": {},
     "output_type": "execute_result"
    }
   ],
   "source": [
    "numero1, numero2, numero3 = 1, 2, 3\n",
    "numero1, numero2, numero3"
   ]
  },
  {
   "cell_type": "markdown",
   "id": "22623066",
   "metadata": {
    "slideshow": {
     "slide_type": "slide"
    }
   },
   "source": [
    "<div style=\"text-align: center\"> <h2>Teste o modo script no jupyter e em outra IDE</h2> </div>"
   ]
  },
  {
   "cell_type": "code",
   "execution_count": 12,
   "id": "d0c6afb9",
   "metadata": {
    "slideshow": {
     "slide_type": "fragment"
    }
   },
   "outputs": [
    {
     "data": {
      "text/plain": [
       "6"
      ]
     },
     "execution_count": 12,
     "metadata": {},
     "output_type": "execute_result"
    }
   ],
   "source": [
    "5\n",
    "x= 5\n",
    "x + 1"
   ]
  },
  {
   "cell_type": "markdown",
   "id": "df52c479",
   "metadata": {
    "slideshow": {
     "slide_type": "subslide"
    }
   },
   "source": [
    "<div style=\"text-align: left\">\n",
    "No script não recebe nenhuma saída. Uma expressão, por conta própria, não tem efeito visível no modo script. O Python,\n",
    "na verdade, avalia a expressão, mas não exibe o valor a menos que você especifique:.</div>"
   ]
  },
  {
   "cell_type": "code",
   "execution_count": 13,
   "id": "a7013ad2",
   "metadata": {
    "slideshow": {
     "slide_type": "fragment"
    }
   },
   "outputs": [
    {
     "name": "stdout",
     "output_type": "stream",
     "text": [
      "x + 1\n"
     ]
    }
   ],
   "source": [
    "x = 5\n",
    "print('x + 1')"
   ]
  },
  {
   "cell_type": "markdown",
   "id": "5bc35aa2",
   "metadata": {
    "slideshow": {
     "slide_type": "slide"
    }
   },
   "source": [
    "<div style=\"text-align: center\"> <h2>Operações com strings</h2> </div>"
   ]
  },
  {
   "cell_type": "code",
   "execution_count": 6,
   "id": "efc72853",
   "metadata": {
    "slideshow": {
     "slide_type": "fragment"
    }
   },
   "outputs": [],
   "source": [
    "primeiro = 'o'"
   ]
  },
  {
   "cell_type": "code",
   "execution_count": 7,
   "id": "cd49e9e6",
   "metadata": {
    "slideshow": {
     "slide_type": "fragment"
    }
   },
   "outputs": [],
   "source": [
    "segundo = 'i'"
   ]
  },
  {
   "cell_type": "code",
   "execution_count": 1,
   "id": "bf86f883",
   "metadata": {
    "slideshow": {
     "slide_type": "fragment"
    }
   },
   "outputs": [
    {
     "data": {
      "text/plain": [
       "'Quanto dá primeiro + segundo?'"
      ]
     },
     "execution_count": 1,
     "metadata": {},
     "output_type": "execute_result"
    }
   ],
   "source": [
    "\"\"\"Quanto dá primeiro + segundo?\"\"\""
   ]
  },
  {
   "cell_type": "code",
   "execution_count": 8,
   "id": "b84efbd3",
   "metadata": {},
   "outputs": [
    {
     "data": {
      "text/plain": [
       "'oi'"
      ]
     },
     "execution_count": 8,
     "metadata": {},
     "output_type": "execute_result"
    }
   ],
   "source": [
    "primeiro + segundo"
   ]
  },
  {
   "cell_type": "markdown",
   "id": "e5a69b43",
   "metadata": {
    "slideshow": {
     "slide_type": "subslide"
    }
   },
   "source": [
    "<div style=\"text-align: left\"><p>\n",
    "Execute a multiplicação do primeiro pelo segundo</p></div>"
   ]
  },
  {
   "cell_type": "code",
   "execution_count": 17,
   "id": "260a45db",
   "metadata": {},
   "outputs": [
    {
     "ename": "TypeError",
     "evalue": "can't multiply sequence by non-int of type 'str'",
     "output_type": "error",
     "traceback": [
      "\u001b[1;31m---------------------------------------------------------------------------\u001b[0m",
      "\u001b[1;31mTypeError\u001b[0m                                 Traceback (most recent call last)",
      "Input \u001b[1;32mIn [17]\u001b[0m, in \u001b[0;36m<cell line: 1>\u001b[1;34m()\u001b[0m\n\u001b[1;32m----> 1\u001b[0m \u001b[43mprimeiro\u001b[49m\u001b[38;5;241;43m*\u001b[39;49m\u001b[43msegundo\u001b[49m\n",
      "\u001b[1;31mTypeError\u001b[0m: can't multiply sequence by non-int of type 'str'"
     ]
    }
   ],
   "source": [
    "primeiro*segundo"
   ]
  },
  {
   "cell_type": "code",
   "execution_count": 4,
   "id": "82e0ba76",
   "metadata": {},
   "outputs": [
    {
     "data": {
      "text/plain": [
       "'Conversa os números: 2 para float e 2.8 para inteiro'"
      ]
     },
     "execution_count": 4,
     "metadata": {},
     "output_type": "execute_result"
    }
   ],
   "source": [
    "\"\"\"Conversa os números: 2 para float e 2.8 para inteiro\"\"\"\n",
    "\n"
   ]
  },
  {
   "cell_type": "code",
   "execution_count": 19,
   "id": "ed23abbd",
   "metadata": {},
   "outputs": [
    {
     "data": {
      "text/plain": [
       "(2.0, 2)"
      ]
     },
     "execution_count": 19,
     "metadata": {},
     "output_type": "execute_result"
    }
   ],
   "source": [
    "float(2), int(2.8)"
   ]
  },
  {
   "cell_type": "code",
   "execution_count": 20,
   "id": "1b4939ef",
   "metadata": {
    "slideshow": {
     "slide_type": "fragment"
    }
   },
   "outputs": [
    {
     "data": {
      "text/plain": [
       "10"
      ]
     },
     "execution_count": 20,
     "metadata": {},
     "output_type": "execute_result"
    }
   ],
   "source": [
    "# Retorna o valor absoluto de -10\n",
    "abs(-10)"
   ]
  },
  {
   "cell_type": "code",
   "execution_count": 29,
   "id": "12446a2b",
   "metadata": {
    "slideshow": {
     "slide_type": "fragment"
    }
   },
   "outputs": [
    {
     "data": {
      "text/plain": [
       "8.79"
      ]
     },
     "execution_count": 29,
     "metadata": {},
     "output_type": "execute_result"
    }
   ],
   "source": [
    "# Retorna o valor com arredondamento de 8.7890 em duas casas decimais\n",
    "round(8.7890,2)"
   ]
  },
  {
   "cell_type": "code",
   "execution_count": 23,
   "id": "e2e1df93",
   "metadata": {
    "slideshow": {
     "slide_type": "fragment"
    }
   },
   "outputs": [
    {
     "data": {
      "text/plain": [
       "32"
      ]
     },
     "execution_count": 23,
     "metadata": {},
     "output_type": "execute_result"
    }
   ],
   "source": [
    "# 2 elevado a 5 dá quanto?\n",
    "pow(2,5)\n",
    "2**5"
   ]
  },
  {
   "cell_type": "markdown",
   "id": "f9aedd78",
   "metadata": {
    "slideshow": {
     "slide_type": "fragment"
    }
   },
   "source": [
    "Desenvolva um algoritmo e um fluxograma para um\n",
    "programa que permita com que o usuário insira quatro\n",
    "números. \n",
    "O programa deverá imprimir a média ponderada, sabendo-se que os pesos são respectivamente: 1, 2, 3 e 4"
   ]
  },
  {
   "cell_type": "code",
   "execution_count": 33,
   "id": "7537f1ba",
   "metadata": {},
   "outputs": [
    {
     "data": {
      "text/html": [
       "<img src=\"https://i.pinimg.com/originals/d2/79/2a/d2792a5860d3f614c936c9462ba214d8.jpg\"/>"
      ],
      "text/plain": [
       "<IPython.core.display.Image object>"
      ]
     },
     "execution_count": 33,
     "metadata": {},
     "output_type": "execute_result"
    }
   ],
   "source": [
    "from IPython.display import Image\n",
    "from IPython.core.display import HTML\n",
    "Image(url= \"https://i.pinimg.com/originals/d2/79/2a/d2792a5860d3f614c936c9462ba214d8.jpg\")"
   ]
  },
  {
   "cell_type": "code",
   "execution_count": 1,
   "id": "403d6cf7",
   "metadata": {},
   "outputs": [
    {
     "name": "stdout",
     "output_type": "stream",
     "text": [
      "Olá usuário, digite o primeiro número: 1\n"
     ]
    }
   ],
   "source": [
    "n1 =float(input('Olá usuário, digite o primeiro número: '))"
   ]
  },
  {
   "cell_type": "code",
   "execution_count": 2,
   "id": "5125ac15",
   "metadata": {},
   "outputs": [
    {
     "name": "stdout",
     "output_type": "stream",
     "text": [
      "Digite o segundo número: 2\n"
     ]
    }
   ],
   "source": [
    "n2 = float(input('Digite o segundo número: '))"
   ]
  },
  {
   "cell_type": "code",
   "execution_count": 3,
   "id": "74919ee0",
   "metadata": {},
   "outputs": [
    {
     "name": "stdout",
     "output_type": "stream",
     "text": [
      "Digite o terceiro número: 3\n"
     ]
    }
   ],
   "source": [
    "n3 = float(input('Digite o terceiro número: '))"
   ]
  },
  {
   "cell_type": "code",
   "execution_count": 4,
   "id": "43b799ff",
   "metadata": {},
   "outputs": [
    {
     "name": "stdout",
     "output_type": "stream",
     "text": [
      "Digite o quarto número: 4\n"
     ]
    }
   ],
   "source": [
    "n4 = float(input('Digite o quarto número: '))"
   ]
  },
  {
   "cell_type": "code",
   "execution_count": 6,
   "id": "856fa056",
   "metadata": {},
   "outputs": [
    {
     "name": "stdout",
     "output_type": "stream",
     "text": [
      "A média ponderada é: 3.0\n"
     ]
    }
   ],
   "source": [
    "med = ((n1*1 + n2*2 + n3*3 + n4*4)/10)\n",
    "print(\"A média ponderada é:\", med)"
   ]
  },
  {
   "cell_type": "markdown",
   "id": "486ea5f8",
   "metadata": {
    "slideshow": {
     "slide_type": "fragment"
    }
   },
   "source": [
    "Todo restaurante, embora por lei não possa obrigar o cliente a\n",
    "pagar, cobra 10% do valor da conta como taxa de serviço. Elabore\n",
    "um algoritmo e um fluxograma que leia o valor gasto com as\n",
    "despesas realizadas em um restaurante e exiba o valor total com a\n",
    "taxa de serviço (conforme exemplo).\n",
    "Por favor digite o valor da conta (em reais): 75\n",
    "Valor da taxa de serviço: 7.5 reais\n",
    "Valor total da conta (com taxa de serviço): 82.5 reais"
   ]
  },
  {
   "cell_type": "code",
   "execution_count": 20,
   "id": "d579dffa",
   "metadata": {},
   "outputs": [
    {
     "data": {
      "text/html": [
       "<img src=\"https://i.pinimg.com/originals/33/56/8c/33568c4413d31b0b16f3a82f99393874.jpg\"/>"
      ],
      "text/plain": [
       "<IPython.core.display.Image object>"
      ]
     },
     "execution_count": 20,
     "metadata": {},
     "output_type": "execute_result"
    }
   ],
   "source": [
    "from IPython.display import Image\n",
    "from IPython.core.display import HTML\n",
    "Image(url= \"https://i.pinimg.com/originals/33/56/8c/33568c4413d31b0b16f3a82f99393874.jpg\")"
   ]
  },
  {
   "cell_type": "code",
   "execution_count": 14,
   "id": "c2145039",
   "metadata": {},
   "outputs": [
    {
     "name": "stdout",
     "output_type": "stream",
     "text": [
      "Por favor, digite o valor da conta em reais: 325\n"
     ]
    }
   ],
   "source": [
    "c =float(input('Por favor, digite o valor da conta em reais: '))"
   ]
  },
  {
   "cell_type": "code",
   "execution_count": 15,
   "id": "9c407315",
   "metadata": {},
   "outputs": [],
   "source": [
    "tx= c*0.1"
   ]
  },
  {
   "cell_type": "code",
   "execution_count": 16,
   "id": "cfb5b603",
   "metadata": {},
   "outputs": [
    {
     "name": "stdout",
     "output_type": "stream",
     "text": [
      "O valor da taxa é: 32.5\n"
     ]
    }
   ],
   "source": [
    "print(\"O valor da taxa é:\", tx)"
   ]
  },
  {
   "cell_type": "code",
   "execution_count": 17,
   "id": "87491786",
   "metadata": {},
   "outputs": [],
   "source": [
    "vt= tx+c"
   ]
  },
  {
   "cell_type": "code",
   "execution_count": 18,
   "id": "bb90e889",
   "metadata": {},
   "outputs": [
    {
     "name": "stdout",
     "output_type": "stream",
     "text": [
      "Valor total da conta (com a taxa) é: 357.5\n"
     ]
    }
   ],
   "source": [
    "print(\"Valor total da conta (com a taxa) é:\", vt)"
   ]
  },
  {
   "cell_type": "markdown",
   "id": "9fdca8a3",
   "metadata": {
    "slideshow": {
     "slide_type": "fragment"
    }
   },
   "source": [
    "Escreva um algoritmo e monte um fluxograma que leia as dimensões de um terreno (largura e profundidade) e calcule sua \n",
    "área."
   ]
  },
  {
   "cell_type": "code",
   "execution_count": 19,
   "id": "14186dc1",
   "metadata": {},
   "outputs": [
    {
     "name": "stdout",
     "output_type": "stream",
     "text": [
      "Digite a largura: 100\n",
      "Digite o comprimento: 50\n",
      "A área é:  5000.0\n"
     ]
    }
   ],
   "source": [
    "lag =float(input('Digite a largura: '))\n",
    "comp=float(input(\"Digite o comprimento: \"))\n",
    "area=lag*comp\n",
    "print('A área é: ',area)"
   ]
  },
  {
   "cell_type": "markdown",
   "id": "69ddeea4",
   "metadata": {},
   "source": [
    "Faça um algoritmo e um fluxograma que leia a idade de uma pessoa expressa em anos, meses e dias e mostre-a \n",
    "expressa apenas em dias. A idade deve ser digitada considerando três variáveis inteiras.\n"
   ]
  },
  {
   "cell_type": "code",
   "execution_count": null,
   "id": "d24b90c4",
   "metadata": {},
   "outputs": [],
   "source": []
  },
  {
   "cell_type": "markdown",
   "id": "c7607374",
   "metadata": {
    "slideshow": {
     "slide_type": "fragment"
    }
   },
   "source": [
    " Uma fazenda adquiriu animais para o trabalho diário e também para produção de leite e lã. Foram \n",
    "adquiridos cavalos, vacas e ovelhas.\n",
    "A quantidade de cada animal deve ser informada no algoritmo. Após, deve ser calculado e \n",
    "apresentado as seguintes informações:\n",
    " Volume diário, semanal e mensal de leite produzido, considerando que cada vaca produz, na \n",
    "média, 3,2 litros/dia.\n",
    " Volume, em quilos, de lã produzida, estimando para isso que cada ovelha produza 2,3 quilos \n",
    "de lã a cada tosquia (retirada da lã da ovelha).\n",
    " Quantidade de ferraduras necessárias para equipar toda a tropa de cavalos"
   ]
  }
 ],
 "metadata": {
  "celltoolbar": "Slideshow",
  "kernelspec": {
   "display_name": "Python 3 (ipykernel)",
   "language": "python",
   "name": "python3"
  },
  "language_info": {
   "codemirror_mode": {
    "name": "ipython",
    "version": 3
   },
   "file_extension": ".py",
   "mimetype": "text/x-python",
   "name": "python",
   "nbconvert_exporter": "python",
   "pygments_lexer": "ipython3",
   "version": "3.9.12"
  }
 },
 "nbformat": 4,
 "nbformat_minor": 5
}
