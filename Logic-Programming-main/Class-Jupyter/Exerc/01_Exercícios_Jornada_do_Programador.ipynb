{
 "cells": [
  {
   "cell_type": "markdown",
   "id": "b832a2ac",
   "metadata": {},
   "source": [
    "<div style=\"text-align: center\"> <p><h1> Exercícios </h1><br> DOWNEY AB, em Python P. pense como um cientista da computação. São Paulo: Novatec. 2016.</p> </div>"
   ]
  },
  {
   "cell_type": "markdown",
   "id": "eede8c88",
   "metadata": {},
   "source": [
    "<div style=\"text-align: left\"> <strong> Exercício 1</strong><ol>\n",
    "    <li>O que acontece se você omitir um dos parênteses ou ambos de uma instrução print?</li>\n",
    "    <li>E se omitir uma das aspas ou ambas?</li>\n",
    "    <li>Você pode usar um sinal de menos para fazer um número negativo como -2. O que\n",
    "acontece se puser um sinal de mais antes de um número? E se escrever assim: 2++2?</li>\n",
    "    <li>Na notação matemática, zeros à esquerda são aceitáveis, como em 02. O que\n",
    "acontece se você tentar usar isso no Python?</li>\n",
    "    <li>O que acontece se você tiver dois valores sem nenhum operador entre eles?</li> </ol> </div>"
   ]
  },
  {
   "cell_type": "code",
   "execution_count": 9,
   "id": "f27f3cd3",
   "metadata": {},
   "outputs": [
    {
     "ename": "SyntaxError",
     "evalue": "Missing parentheses in call to 'print'. Did you mean print('casa')? (2440552940.py, line 1)",
     "output_type": "error",
     "traceback": [
      "\u001b[1;36m  Input \u001b[1;32mIn [9]\u001b[1;36m\u001b[0m\n\u001b[1;33m    print 'casa'\u001b[0m\n\u001b[1;37m          ^\u001b[0m\n\u001b[1;31mSyntaxError\u001b[0m\u001b[1;31m:\u001b[0m Missing parentheses in call to 'print'. Did you mean print('casa')?\n"
     ]
    }
   ],
   "source": [
    "print 'casa'"
   ]
  },
  {
   "cell_type": "code",
   "execution_count": 2,
   "id": "9cd129be",
   "metadata": {},
   "outputs": [
    {
     "ename": "NameError",
     "evalue": "name 'casa' is not defined",
     "output_type": "error",
     "traceback": [
      "\u001b[1;31m---------------------------------------------------------------------------\u001b[0m",
      "\u001b[1;31mNameError\u001b[0m                                 Traceback (most recent call last)",
      "Input \u001b[1;32mIn [2]\u001b[0m, in \u001b[0;36m<cell line: 1>\u001b[1;34m()\u001b[0m\n\u001b[1;32m----> 1\u001b[0m \u001b[38;5;28mprint\u001b[39m(\u001b[43mcasa\u001b[49m)\n",
      "\u001b[1;31mNameError\u001b[0m: name 'casa' is not defined"
     ]
    }
   ],
   "source": [
    "print(casa)"
   ]
  },
  {
   "cell_type": "code",
   "execution_count": 6,
   "id": "d812b5bf",
   "metadata": {},
   "outputs": [
    {
     "data": {
      "text/plain": [
       "2"
      ]
     },
     "execution_count": 6,
     "metadata": {},
     "output_type": "execute_result"
    }
   ],
   "source": [
    "+2   #da como resultado o valor positivo 2"
   ]
  },
  {
   "cell_type": "code",
   "execution_count": 7,
   "id": "03ad24d1",
   "metadata": {},
   "outputs": [
    {
     "data": {
      "text/plain": [
       "4"
      ]
     },
     "execution_count": 7,
     "metadata": {},
     "output_type": "execute_result"
    }
   ],
   "source": [
    "2++2 #um sinal a mais não interfere na resposta final"
   ]
  },
  {
   "cell_type": "code",
   "execution_count": 8,
   "id": "74bcd1be",
   "metadata": {},
   "outputs": [
    {
     "ename": "SyntaxError",
     "evalue": "leading zeros in decimal integer literals are not permitted; use an 0o prefix for octal integers (2411615945.py, line 1)",
     "output_type": "error",
     "traceback": [
      "\u001b[1;36m  Input \u001b[1;32mIn [8]\u001b[1;36m\u001b[0m\n\u001b[1;33m    02\u001b[0m\n\u001b[1;37m     ^\u001b[0m\n\u001b[1;31mSyntaxError\u001b[0m\u001b[1;31m:\u001b[0m leading zeros in decimal integer literals are not permitted; use an 0o prefix for octal integers\n"
     ]
    }
   ],
   "source": [
    "02 #não é permitido usar o zero antes, pois zero sem ser decimal não pode ser um prefixo"
   ]
  },
  {
   "cell_type": "code",
   "execution_count": 10,
   "id": "962a3684",
   "metadata": {},
   "outputs": [
    {
     "ename": "SyntaxError",
     "evalue": "invalid syntax (2335561472.py, line 1)",
     "output_type": "error",
     "traceback": [
      "\u001b[1;36m  Input \u001b[1;32mIn [10]\u001b[1;36m\u001b[0m\n\u001b[1;33m    11 22\u001b[0m\n\u001b[1;37m       ^\u001b[0m\n\u001b[1;31mSyntaxError\u001b[0m\u001b[1;31m:\u001b[0m invalid syntax\n"
     ]
    }
   ],
   "source": [
    "11 22  #acontece uma sintaxe inválida"
   ]
  },
  {
   "cell_type": "markdown",
   "id": "aa6d9404",
   "metadata": {},
   "source": [
    "<div style=\"text-align: left\"><strong> Exercício 2</strong> <ol>\n",
    "    <li>Quantos segundos há em 42 minutos e 42 segundos?</li>\n",
    "    <li>Quantas milhas há em 10 quilômetros? Dica: uma milha equivale a 1,61 quilômetro.</li>\n",
    "    <li>Se você correr 10 quilômetros em 42 minutos e 42 segundos, qual é o seu passo\n",
    "médio (tempo por milha em minutos e segundos)? Qual é a sua velocidade média em\n",
    "milhas por hora?</li>\n",
    "    </ol></div>"
   ]
  },
  {
   "cell_type": "code",
   "execution_count": 11,
   "id": "f1f2aa2e",
   "metadata": {},
   "outputs": [
    {
     "data": {
      "text/plain": [
       "2562"
      ]
     },
     "execution_count": 11,
     "metadata": {},
     "output_type": "execute_result"
    }
   ],
   "source": [
    "42*60+42 #2562 segundos"
   ]
  },
  {
   "cell_type": "code",
   "execution_count": 14,
   "id": "895ccb5e",
   "metadata": {},
   "outputs": [
    {
     "data": {
      "text/plain": [
       "16.1"
      ]
     },
     "execution_count": 14,
     "metadata": {},
     "output_type": "execute_result"
    }
   ],
   "source": [
    "10*1.61 #seriam 16.1 milhas"
   ]
  },
  {
   "cell_type": "code",
   "execution_count": 17,
   "id": "adfcd92c",
   "metadata": {},
   "outputs": [
    {
     "data": {
      "text/plain": [
       "0.006284153005464481"
      ]
     },
     "execution_count": 17,
     "metadata": {},
     "output_type": "execute_result"
    }
   ],
   "source": [
    "16.1/2562 #passo médio"
   ]
  },
  {
   "cell_type": "code",
   "execution_count": 19,
   "id": "59aa2395",
   "metadata": {},
   "outputs": [
    {
     "data": {
      "text/plain": [
       "22.62295081967213"
      ]
     },
     "execution_count": 19,
     "metadata": {},
     "output_type": "execute_result"
    }
   ],
   "source": [
    "(16.1/2562)*3600 #velocidade média milha por hora."
   ]
  },
  {
   "cell_type": "code",
   "execution_count": null,
   "id": "bd433d94",
   "metadata": {},
   "outputs": [],
   "source": []
  }
 ],
 "metadata": {
  "kernelspec": {
   "display_name": "Python 3 (ipykernel)",
   "language": "python",
   "name": "python3"
  },
  "language_info": {
   "codemirror_mode": {
    "name": "ipython",
    "version": 3
   },
   "file_extension": ".py",
   "mimetype": "text/x-python",
   "name": "python",
   "nbconvert_exporter": "python",
   "pygments_lexer": "ipython3",
   "version": "3.9.12"
  }
 },
 "nbformat": 4,
 "nbformat_minor": 5
}
