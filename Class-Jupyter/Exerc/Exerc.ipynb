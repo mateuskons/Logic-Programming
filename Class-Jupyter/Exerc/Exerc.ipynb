{
 "cells": [
  {
   "cell_type": "markdown",
   "id": "5d92bfda",
   "metadata": {
    "slideshow": {
     "slide_type": "slide"
    }
   },
   "source": [
    "<div style=\"text-align: center\"> <h2> Exercícios </h2> </div>"
   ]
  },
  {
   "cell_type": "markdown",
   "id": "1af63e35",
   "metadata": {
    "slideshow": {
     "slide_type": "slide"
    }
   },
   "source": [
    "<div style=\"text-align: center\"> <h2> Responda abaixo os tipos de variáveis</h2> </div>"
   ]
  },
  {
   "cell_type": "code",
   "execution_count": 2,
   "id": "68d833fe",
   "metadata": {
    "slideshow": {
     "slide_type": "fragment"
    }
   },
   "outputs": [],
   "source": [
    "mensagem = 'Oi, tudo bem?'\n",
    "n = 10\n",
    "pi = 3.14"
   ]
  },
  {
   "cell_type": "code",
   "execution_count": 3,
   "id": "a1c304a3",
   "metadata": {
    "slideshow": {
     "slide_type": "fragment"
    }
   },
   "outputs": [
    {
     "data": {
      "text/plain": [
       "str"
      ]
     },
     "execution_count": 3,
     "metadata": {},
     "output_type": "execute_result"
    }
   ],
   "source": [
    "type(mensagem)"
   ]
  },
  {
   "cell_type": "code",
   "execution_count": 11,
   "id": "9503c472",
   "metadata": {
    "slideshow": {
     "slide_type": "fragment"
    }
   },
   "outputs": [
    {
     "data": {
      "text/plain": [
       "int"
      ]
     },
     "execution_count": 11,
     "metadata": {},
     "output_type": "execute_result"
    }
   ],
   "source": [
    "type(n)"
   ]
  },
  {
   "cell_type": "code",
   "execution_count": 12,
   "id": "f89b9b29",
   "metadata": {
    "slideshow": {
     "slide_type": "fragment"
    }
   },
   "outputs": [
    {
     "data": {
      "text/plain": [
       "float"
      ]
     },
     "execution_count": 12,
     "metadata": {},
     "output_type": "execute_result"
    }
   ],
   "source": [
    "type(pi)"
   ]
  },
  {
   "cell_type": "markdown",
   "id": "aafcb39e",
   "metadata": {
    "slideshow": {
     "slide_type": "subslide"
    }
   },
   "source": [
    "<div style=\"text-align: left\"><p><strong>Atenção</strong><br>O que acontece ao cadastrar uma variável com número na frente?</p></div>"
   ]
  },
  {
   "cell_type": "code",
   "execution_count": 13,
   "id": "00af7e44",
   "metadata": {},
   "outputs": [
    {
     "ename": "SyntaxError",
     "evalue": "invalid decimal literal (560062693.py, line 1)",
     "output_type": "error",
     "traceback": [
      "\u001b[1;36m  Cell \u001b[1;32mIn [13], line 1\u001b[1;36m\u001b[0m\n\u001b[1;33m    2x = 5\u001b[0m\n\u001b[1;37m    ^\u001b[0m\n\u001b[1;31mSyntaxError\u001b[0m\u001b[1;31m:\u001b[0m invalid decimal literal\n"
     ]
    }
   ],
   "source": [
    "2x = 5"
   ]
  },
  {
   "cell_type": "code",
   "execution_count": 10,
   "id": "497966c1",
   "metadata": {
    "slideshow": {
     "slide_type": "slide"
    }
   },
   "outputs": [
    {
     "data": {
      "text/html": [
       "<img src=\"https://images.ctfassets.net/hrltx12pl8hq/7yQR5uJhwEkRfjwMFJ7bUK/dc52a0913e8ff8b5c276177890eb0129/offset_comp_772626-opt.jpg?fit=fill&w=800&h=300\"/>"
      ],
      "text/plain": [
       "<IPython.core.display.Image object>"
      ]
     },
     "execution_count": 10,
     "metadata": {},
     "output_type": "execute_result"
    }
   ],
   "source": [
    "\"Para adicionar uma imagem utilize o código abaixo\"\n",
    "from IPython.display import Image\n",
    "from IPython.core.display import HTML \n",
    "Image(url= \"https://images.ctfassets.net/hrltx12pl8hq/7yQR5uJhwEkRfjwMFJ7bUK/dc52a0913e8ff8b5c276177890eb0129/offset_comp_772626-opt.jpg?fit=fill&w=800&h=300\")"
   ]
  },
  {
   "cell_type": "markdown",
   "id": "ee38702d",
   "metadata": {
    "slideshow": {
     "slide_type": "slide"
    }
   },
   "source": [
    "<div style=\"text-align: center\"> <h2>Como realizar uma declaração de variável múltipla?</h2> </div>"
   ]
  },
  {
   "cell_type": "code",
   "execution_count": 14,
   "id": "b1db5bc9",
   "metadata": {},
   "outputs": [],
   "source": [
    "pessoa1,pessoa2,pessoa3=\"Maria\",\"Julia\",\"Ana\""
   ]
  },
  {
   "cell_type": "markdown",
   "id": "22623066",
   "metadata": {
    "slideshow": {
     "slide_type": "slide"
    }
   },
   "source": [
    "<div style=\"text-align: center\"> <h2>Teste o modo script no jupyter e em outra IDE</h2> </div>"
   ]
  },
  {
   "cell_type": "code",
   "execution_count": 12,
   "id": "d0c6afb9",
   "metadata": {
    "slideshow": {
     "slide_type": "fragment"
    }
   },
   "outputs": [
    {
     "data": {
      "text/plain": [
       "6"
      ]
     },
     "execution_count": 12,
     "metadata": {},
     "output_type": "execute_result"
    }
   ],
   "source": [
    "5\n",
    "x= 5\n",
    "x + 1"
   ]
  },
  {
   "cell_type": "markdown",
   "id": "df52c479",
   "metadata": {
    "slideshow": {
     "slide_type": "subslide"
    }
   },
   "source": [
    "<div style=\"text-align: left\">\n",
    "No script não recebe nenhuma saída. Uma expressão, por conta própria, não tem efeito visível no modo script. O Python,\n",
    "na verdade, avalia a expressão, mas não exibe o valor a menos que você especifique:.</div>"
   ]
  },
  {
   "cell_type": "code",
   "execution_count": 13,
   "id": "a7013ad2",
   "metadata": {
    "slideshow": {
     "slide_type": "fragment"
    }
   },
   "outputs": [
    {
     "name": "stdout",
     "output_type": "stream",
     "text": [
      "x + 1\n"
     ]
    }
   ],
   "source": [
    "x = 5\n",
    "print('x + 1')"
   ]
  },
  {
   "cell_type": "markdown",
   "id": "5bc35aa2",
   "metadata": {
    "slideshow": {
     "slide_type": "slide"
    }
   },
   "source": [
    "<div style=\"text-align: center\"> <h2>Operações com strings</h2> </div>"
   ]
  },
  {
   "cell_type": "code",
   "execution_count": 15,
   "id": "efc72853",
   "metadata": {
    "slideshow": {
     "slide_type": "fragment"
    }
   },
   "outputs": [],
   "source": [
    "primeiro = 'o'"
   ]
  },
  {
   "cell_type": "code",
   "execution_count": 16,
   "id": "cd49e9e6",
   "metadata": {
    "slideshow": {
     "slide_type": "fragment"
    }
   },
   "outputs": [],
   "source": [
    "segundo = 'i'"
   ]
  },
  {
   "cell_type": "code",
   "execution_count": 17,
   "id": "bf86f883",
   "metadata": {
    "slideshow": {
     "slide_type": "fragment"
    }
   },
   "outputs": [
    {
     "data": {
      "text/plain": [
       "'Quanto dá primeiro + segundo?'"
      ]
     },
     "execution_count": 17,
     "metadata": {},
     "output_type": "execute_result"
    }
   ],
   "source": [
    "\"\"\"Quanto dá primeiro + segundo?\"\"\""
   ]
  },
  {
   "cell_type": "code",
   "execution_count": 18,
   "id": "af6d587b",
   "metadata": {},
   "outputs": [
    {
     "data": {
      "text/plain": [
       "'oi'"
      ]
     },
     "execution_count": 18,
     "metadata": {},
     "output_type": "execute_result"
    }
   ],
   "source": [
    "primeiro+segundo"
   ]
  },
  {
   "cell_type": "markdown",
   "id": "e5a69b43",
   "metadata": {
    "slideshow": {
     "slide_type": "subslide"
    }
   },
   "source": [
    "<div style=\"text-align: left\"><p>\n",
    "Execute a multiplicação do primeiro pelo segundo</p></div>"
   ]
  },
  {
   "cell_type": "code",
   "execution_count": 20,
   "id": "fecce905",
   "metadata": {},
   "outputs": [
    {
     "data": {
      "text/plain": [
       "'ooo'"
      ]
     },
     "execution_count": 20,
     "metadata": {},
     "output_type": "execute_result"
    }
   ],
   "source": [
    "primeiro*3"
   ]
  },
  {
   "cell_type": "code",
   "execution_count": 21,
   "id": "82e0ba76",
   "metadata": {},
   "outputs": [
    {
     "data": {
      "text/plain": [
       "'Converta os números: 2 para float e 2.8 \\n\\n\\n\\n\\npara inteiro'"
      ]
     },
     "execution_count": 21,
     "metadata": {},
     "output_type": "execute_result"
    }
   ],
   "source": [
    "\"\"\"Converta os números: 2 para float e 2.8 \n",
    "\n",
    "\n",
    "\n",
    "\n",
    "para inteiro\"\"\"\n",
    "\n"
   ]
  },
  {
   "cell_type": "code",
   "execution_count": 22,
   "id": "0977f288",
   "metadata": {},
   "outputs": [
    {
     "data": {
      "text/plain": [
       "2.0"
      ]
     },
     "execution_count": 22,
     "metadata": {},
     "output_type": "execute_result"
    }
   ],
   "source": [
    "float(2)"
   ]
  },
  {
   "cell_type": "code",
   "execution_count": 23,
   "id": "23ad2cc6",
   "metadata": {},
   "outputs": [
    {
     "data": {
      "text/plain": [
       "2"
      ]
     },
     "execution_count": 23,
     "metadata": {},
     "output_type": "execute_result"
    }
   ],
   "source": [
    "int(2.8)"
   ]
  },
  {
   "cell_type": "code",
   "execution_count": 25,
   "id": "13482da7",
   "metadata": {},
   "outputs": [
    {
     "data": {
      "text/plain": [
       "'2'"
      ]
     },
     "execution_count": 25,
     "metadata": {},
     "output_type": "execute_result"
    }
   ],
   "source": [
    "x=2\n",
    "str(x)"
   ]
  },
  {
   "cell_type": "code",
   "execution_count": null,
   "id": "e8d23aa7",
   "metadata": {},
   "outputs": [],
   "source": []
  },
  {
   "cell_type": "code",
   "execution_count": 5,
   "id": "1b4939ef",
   "metadata": {
    "slideshow": {
     "slide_type": "fragment"
    }
   },
   "outputs": [],
   "source": [
    "# Retorna o valor absoluto de -10\n"
   ]
  },
  {
   "cell_type": "code",
   "execution_count": 27,
   "id": "77c943ce",
   "metadata": {},
   "outputs": [
    {
     "data": {
      "text/plain": [
       "10"
      ]
     },
     "execution_count": 27,
     "metadata": {},
     "output_type": "execute_result"
    }
   ],
   "source": [
    "abs(-10)"
   ]
  },
  {
   "cell_type": "code",
   "execution_count": 6,
   "id": "12446a2b",
   "metadata": {
    "slideshow": {
     "slide_type": "fragment"
    }
   },
   "outputs": [],
   "source": [
    "# Retorna o valor com arredondamento de 8.7890 em duas casas decimais\n"
   ]
  },
  {
   "cell_type": "code",
   "execution_count": 29,
   "id": "38e603ea",
   "metadata": {},
   "outputs": [
    {
     "data": {
      "text/plain": [
       "8.79"
      ]
     },
     "execution_count": 29,
     "metadata": {},
     "output_type": "execute_result"
    }
   ],
   "source": [
    "round(8.7890,2)"
   ]
  },
  {
   "cell_type": "code",
   "execution_count": 7,
   "id": "e2e1df93",
   "metadata": {
    "slideshow": {
     "slide_type": "fragment"
    }
   },
   "outputs": [],
   "source": [
    "# 2 elevado a 5 dá quanto?\n"
   ]
  },
  {
   "cell_type": "code",
   "execution_count": 31,
   "id": "8aa49f3d",
   "metadata": {},
   "outputs": [
    {
     "data": {
      "text/plain": [
       "32"
      ]
     },
     "execution_count": 31,
     "metadata": {},
     "output_type": "execute_result"
    }
   ],
   "source": [
    "pow(2,5)"
   ]
  },
  {
   "cell_type": "markdown",
   "id": "f9aedd78",
   "metadata": {
    "slideshow": {
     "slide_type": "fragment"
    }
   },
   "source": [
    "Desenvolva um algoritmo e um fluxograma para um\n",
    "programa que permita com que o usuário insira quatro\n",
    "números. \n",
    "O programa deverá imprimir a média ponderada, sabendo-se que os pesos são respectivamente: 1, 2, 3 e 4"
   ]
  },
  {
   "cell_type": "code",
   "execution_count": 37,
   "id": "35bbfa3d",
   "metadata": {},
   "outputs": [
    {
     "name": "stdout",
     "output_type": "stream",
     "text": [
      "Digite o número 1: 6\n"
     ]
    }
   ],
   "source": [
    "num1=float(input(\"Digite o número 1: \"))"
   ]
  },
  {
   "cell_type": "code",
   "execution_count": 38,
   "id": "2989f359",
   "metadata": {},
   "outputs": [
    {
     "name": "stdout",
     "output_type": "stream",
     "text": [
      "Digite o número 2: 7\n"
     ]
    }
   ],
   "source": [
    "num2=float(input(\"Digite o número 2: \"))"
   ]
  },
  {
   "cell_type": "code",
   "execution_count": 39,
   "id": "05e384b9",
   "metadata": {},
   "outputs": [
    {
     "name": "stdout",
     "output_type": "stream",
     "text": [
      "Digite o número 3: 8\n"
     ]
    }
   ],
   "source": [
    "num3=float(input(\"Digite o número 3: \"))"
   ]
  },
  {
   "cell_type": "code",
   "execution_count": 40,
   "id": "02fb03ec",
   "metadata": {},
   "outputs": [
    {
     "name": "stdout",
     "output_type": "stream",
     "text": [
      "Digite o número 4: 7\n"
     ]
    }
   ],
   "source": [
    "num4=float(input(\"Digite o número 4: \"))"
   ]
  },
  {
   "cell_type": "code",
   "execution_count": 41,
   "id": "10469472",
   "metadata": {},
   "outputs": [],
   "source": [
    "media=(num1*1 + num2*2 + num3*3 + num4*4)/10"
   ]
  },
  {
   "cell_type": "code",
   "execution_count": 42,
   "id": "8ebf0836",
   "metadata": {},
   "outputs": [
    {
     "name": "stdout",
     "output_type": "stream",
     "text": [
      "7.2\n"
     ]
    }
   ],
   "source": [
    "print(media)"
   ]
  },
  {
   "cell_type": "markdown",
   "id": "486ea5f8",
   "metadata": {
    "slideshow": {
     "slide_type": "fragment"
    }
   },
   "source": [
    "Todo restaurante, embora por lei não possa obrigar o cliente a\n",
    "pagar, cobra 10% do valor da conta como taxa de serviço. Elabore\n",
    "um algoritmo e um fluxograma que leia o valor gasto com as\n",
    "despesas realizadas em um restaurante e exiba o valor total com a\n",
    "taxa de serviço (conforme exemplo).\n",
    "Por favor digite o valor da conta (em reais): 75\n",
    "Valor da taxa de serviço: 7.5 reais\n",
    "Valor total da conta (com taxa de serviço): 82.5 reais"
   ]
  },
  {
   "cell_type": "code",
   "execution_count": 43,
   "id": "92d9e5ba",
   "metadata": {},
   "outputs": [
    {
     "name": "stdout",
     "output_type": "stream",
     "text": [
      "Por favor digite o valor da conta (em reais)100\n"
     ]
    }
   ],
   "source": [
    "valor=float(input(\"Por favor digite o valor da conta (em reais)\"))"
   ]
  },
  {
   "cell_type": "code",
   "execution_count": 45,
   "id": "24e11c1b",
   "metadata": {},
   "outputs": [],
   "source": [
    "taxa=valor*0.1\n",
    "valorfinal=valor+taxa"
   ]
  },
  {
   "cell_type": "code",
   "execution_count": 46,
   "id": "516ab8b9",
   "metadata": {},
   "outputs": [
    {
     "name": "stdout",
     "output_type": "stream",
     "text": [
      "Valor da taxa de serviço:  10.0\n"
     ]
    }
   ],
   "source": [
    "print(\"Valor da taxa de serviço: \",taxa)"
   ]
  },
  {
   "cell_type": "code",
   "execution_count": 47,
   "id": "6d841e58",
   "metadata": {},
   "outputs": [
    {
     "name": "stdout",
     "output_type": "stream",
     "text": [
      "Valor total da conta: 110.0\n"
     ]
    }
   ],
   "source": [
    "print(\"Valor total da conta:\", valorfinal)"
   ]
  },
  {
   "cell_type": "markdown",
   "id": "9fdca8a3",
   "metadata": {
    "slideshow": {
     "slide_type": "fragment"
    }
   },
   "source": [
    "Escreva um algoritmo e monte um fluxograma que leia as dimensões de um terreno (largura e profundidade) e calcule sua \n",
    "área."
   ]
  },
  {
   "cell_type": "code",
   "execution_count": null,
   "id": "20acce41",
   "metadata": {},
   "outputs": [],
   "source": [
    "lag=float(input(\"digite largura: \"))\n",
    "comp=float(input(\"digite comprimento: \"))\n",
    "total=lag*comp\n",
    "print(\"área do terreno: \", total)"
   ]
  },
  {
   "cell_type": "markdown",
   "id": "69ddeea4",
   "metadata": {},
   "source": [
    "Faça um algoritmo e um fluxograma que leia a idade de uma pessoa expressa em anos, meses e dias e mostre-a \n",
    "expressa apenas em dias. A idade deve ser digitada considerando três variáveis inteiras.\n"
   ]
  },
  {
   "cell_type": "code",
   "execution_count": null,
   "id": "1d36b48b",
   "metadata": {},
   "outputs": [],
   "source": [
    "ano=int(input(\"digite a idade em anos\"))\n",
    "meses=int(input(\"digite a idade em meses\"))\n",
    "dias=int(input(\"digite a idade em dias\"))\n",
    "idade=ano*365+meses*30+dias\n",
    "print(\"Sua idade em dias é: \", idade)"
   ]
  },
  {
   "cell_type": "markdown",
   "id": "c7607374",
   "metadata": {
    "slideshow": {
     "slide_type": "fragment"
    }
   },
   "source": [
    " Uma fazenda adquiriu animais para o trabalho diário e também para produção de leite e lã. Foram \n",
    "adquiridos cavalos, vacas e ovelhas.\n",
    "A quantidade de cada animal deve ser informada no algoritmo. Após, deve ser calculado e \n",
    "apresentado as seguintes informações:\n",
    " Volume diário, semanal e mensal de leite produzido, considerando que cada vaca produz, na \n",
    "média, 3,2 litros/dia.\n",
    " Volume, em quilos, de lã produzida, estimando para isso que cada ovelha produza 2,3 quilos \n",
    "de lã a cada tosquia (retirada da lã da ovelha).\n",
    " Quantidade de ferraduras necessárias para equipar toda a tropa de cavalos"
   ]
  }
 ],
 "metadata": {
  "celltoolbar": "Slideshow",
  "kernelspec": {
   "display_name": "Python 3 (ipykernel)",
   "language": "python",
   "name": "python3"
  },
  "language_info": {
   "codemirror_mode": {
    "name": "ipython",
    "version": 3
   },
   "file_extension": ".py",
   "mimetype": "text/x-python",
   "name": "python",
   "nbconvert_exporter": "python",
   "pygments_lexer": "ipython3",
   "version": "3.10.7"
  }
 },
 "nbformat": 4,
 "nbformat_minor": 5
}
